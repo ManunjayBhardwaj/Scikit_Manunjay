{
 "cells": [
  {
   "cell_type": "code",
   "id": "initial_id",
   "metadata": {
    "collapsed": true
   },
   "source": [
    "# Problem statement\n",
    "# In a e-commerce company, the management wants to predict whether a customer will purchase a high-value product based on their age, time spent on the website, and whether they have added items to their cart. The goal is to optimize marketing strategies by targeting potential customers more effectively, thereby increasing sales and revenue."
   ],
   "outputs": [],
   "execution_count": null
  },
  {
   "metadata": {},
   "cell_type": "code",
   "outputs": [],
   "execution_count": null,
   "source": "",
   "id": "3e5cb2f3fad61035"
  },
  {
   "metadata": {
    "ExecuteTime": {
     "end_time": "2025-01-24T11:03:24.264402Z",
     "start_time": "2025-01-24T11:02:50.983159Z"
    }
   },
   "cell_type": "code",
   "source": [
    "# these all data are either numerical or easily changeable to a numerical value\n",
    "import numpy as np\n",
    "from sklearn.model_selection import train_test_split\n",
    "# these two lines are always same for whenever you work in scikit learn\n",
    "from sklearn.linear_model import LogisticRegression\n",
    "# to import logistic regression\n",
    "X=np.array([[25,30,0],[30,40,1],[20,35,0],[35,45,1]])\n",
    "# these are the values of the features that we extracted from the problem statement: (age,no of hours,added to cart:0 for no 1 for yes)\n",
    "# X is the feature matrix\n",
    "Y=np.array([0,1,0,1])# these are values from  the feature that whether the item is added to a cart or not as we want to train this data mainly\n",
    "\n",
    "# now we would train test split\n",
    "x_train, x_test, y_train, y_test = train_test_split(X, Y, test_size=0.2, random_state=42)\n",
    "\n",
    "# importing the logistic regression model\n",
    "model=LogisticRegression()\n",
    "model.fit(x_train, y_train)\n",
    "\n",
    "# to check the accuracy of the model: percentage of success of the trained model\n",
    "\n",
    "accuracy=model.score(x_test, y_test)\n",
    "# print(accuracy)\n",
    "# we took the score of the model so we would know that how much accuracy will come if our model predicts the value for a given input\n",
    "\n",
    "# taking the input\n",
    "user_age= float(input(\"Enter user age: \"))\n",
    "time_spent=float(input(\"Enter time spent: \"))\n",
    "item_added=int(input(\"Enter item added 0 for yes 1 for no : \"))\n",
    "\n",
    "# now we have to set the input in an array then pass the array to the model so that we can predict the output based on the input\n",
    "input_data=np.array([[user_age,time_spent,item_added]])\n",
    "# now we will make a prediction variable so that we can easily predict the input data\n",
    "prediction=model.predict(input_data)\n",
    "\n",
    "# now we take this validation as we have made the yes and no data as 0 and 1 and we need to covert it back\n",
    "if prediction[0]==1:\n",
    "    print(\"The customer is likely to purchase\")\n",
    "else:\n",
    "    print(\"The customer is not likely to purchase\")\n",
    "print(prediction)"
   ],
   "id": "7a34a2be335464b2",
   "outputs": [
    {
     "name": "stdout",
     "output_type": "stream",
     "text": [
      "The customer is not likely to purchase\n",
      "[0]\n"
     ]
    }
   ],
   "execution_count": 10
  }
 ],
 "metadata": {
  "kernelspec": {
   "display_name": "Python 3",
   "language": "python",
   "name": "python3"
  },
  "language_info": {
   "codemirror_mode": {
    "name": "ipython",
    "version": 2
   },
   "file_extension": ".py",
   "mimetype": "text/x-python",
   "name": "python",
   "nbconvert_exporter": "python",
   "pygments_lexer": "ipython2",
   "version": "2.7.6"
  }
 },
 "nbformat": 4,
 "nbformat_minor": 5
}
