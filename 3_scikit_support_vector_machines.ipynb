{
 "cells": [
  {
   "cell_type": "code",
   "execution_count": null,
   "id": "initial_id",
   "metadata": {
    "collapsed": true
   },
   "outputs": [],
   "source": "# Problem statement: A telecommunication company wants to reduce customer churn by identifying customers at risk of leaving. They have historical data on customer behaviour and want to build a model to predict which customers are most likely to churn"
  },
  {
   "metadata": {
    "ExecuteTime": {
     "end_time": "2025-01-26T05:17:05.080860Z",
     "start_time": "2025-01-26T05:17:04.453371Z"
    }
   },
   "cell_type": "code",
   "source": [
    "import numpy as np\n",
    "import pandas as pd\n",
    "from sklearn.model_selection import train_test_split\n",
    "from sklearn.svm import SVC\n",
    "from sklearn.metrics import accuracy_score,classification_report\n",
    "# these two parameters are used to evaluate performance of any model"
   ],
   "id": "8d2ce616bbe7f137",
   "outputs": [],
   "execution_count": 1
  }
 ],
 "metadata": {
  "kernelspec": {
   "display_name": "Python 3",
   "language": "python",
   "name": "python3"
  },
  "language_info": {
   "codemirror_mode": {
    "name": "ipython",
    "version": 2
   },
   "file_extension": ".py",
   "mimetype": "text/x-python",
   "name": "python",
   "nbconvert_exporter": "python",
   "pygments_lexer": "ipython2",
   "version": "2.7.6"
  }
 },
 "nbformat": 4,
 "nbformat_minor": 5
}
