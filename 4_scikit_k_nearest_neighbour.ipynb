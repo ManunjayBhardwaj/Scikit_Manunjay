{
 "cells": [
  {
   "cell_type": "code",
   "execution_count": null,
   "id": "initial_id",
   "metadata": {
    "collapsed": true
   },
   "outputs": [],
   "source": [
    "# Problem Statement\n",
    "# A retail company wants to predict customer purchasing behaviour based on their age ,salary and past purchase history. The company aims to use K-Nearest Neighbour algorithm to classify customers into potential buying groups to personalise marketing strategies. The predictive model will help yhe company understand and target specific customer segments more effectively, thereby increasing sales and customer satisfaction"
   ]
  },
  {
   "metadata": {
    "ExecuteTime": {
     "end_time": "2025-01-26T08:29:53.773996Z",
     "start_time": "2025-01-26T08:29:53.770925Z"
    }
   },
   "cell_type": "code",
   "source": [
    "from cProfile import label\n",
    "\n",
    "# Always remember the standardization of the data\n",
    "#step 1:\n",
    "import numpy as np\n",
    "import pandas as pd\n",
    "from sklearn.model_selection import train_test_split\n",
    "from sklearn.preprocessing import StandardScaler\n",
    "# we used this because without standardising we cannot do KNN\n",
    "# so that we can easily remove the unit variance\n",
    "from sklearn.neighbors import KNeighborsClassifier"
   ],
   "id": "644d7786d993b2ce",
   "outputs": [],
   "execution_count": 4
  },
  {
   "metadata": {
    "ExecuteTime": {
     "end_time": "2025-01-26T08:58:23.167599Z",
     "start_time": "2025-01-26T08:58:23.164501Z"
    }
   },
   "cell_type": "code",
   "source": [
    "# Step 2\n",
    "data=np.array([[25,50000,2],[30,80000,1],[35,60000,3],[20,30000,2],[40,90000,1],[45,75000,2]])\n",
    "labels=np.array([1,2,1,0,2,1])# 0:low, 1:medium, 2:high"
   ],
   "id": "646eb0bb63596a1f",
   "outputs": [],
   "execution_count": 7
  },
  {
   "metadata": {
    "ExecuteTime": {
     "end_time": "2025-01-26T08:58:24.503816Z",
     "start_time": "2025-01-26T08:58:24.500347Z"
    }
   },
   "cell_type": "code",
   "source": [
    "# step 3:\n",
    "x_train, x_test, y_train, y_test = train_test_split(data,labels,test_size=0.2)"
   ],
   "id": "64a47fdb300a0ec6",
   "outputs": [],
   "execution_count": 8
  },
  {
   "metadata": {
    "ExecuteTime": {
     "end_time": "2025-01-26T09:01:13.060924Z",
     "start_time": "2025-01-26T09:01:13.056446Z"
    }
   },
   "cell_type": "code",
   "source": [
    "# step 4: This is the standardization of the data above\n",
    "scaler = StandardScaler()\n",
    "scaler.fit(x_train)\n",
    "x_train = scaler.transform(x_train)\n",
    "x_test = scaler.transform(x_test)\n"
   ],
   "id": "d7c5c4699bceb557",
   "outputs": [],
   "execution_count": 9
  },
  {
   "metadata": {
    "ExecuteTime": {
     "end_time": "2025-01-26T09:09:11.974657Z",
     "start_time": "2025-01-26T09:09:11.969560Z"
    }
   },
   "cell_type": "code",
   "source": [
    "# step 5\n",
    "knn = KNeighborsClassifier(n_neighbors=3)\n",
    "knn.fit(x_train,y_train)\n",
    "accuracy = knn.score(x_test,y_test)\n",
    "print(accuracy)"
   ],
   "id": "96651c139872e02c",
   "outputs": [
    {
     "name": "stdout",
     "output_type": "stream",
     "text": [
      "0.5\n"
     ]
    }
   ],
   "execution_count": 22
  },
  {
   "metadata": {
    "ExecuteTime": {
     "end_time": "2025-01-26T09:09:14.020052Z",
     "start_time": "2025-01-26T09:09:14.013296Z"
    }
   },
   "cell_type": "code",
   "source": [
    "# user input\n",
    "user_input=np.array([[32,70000,2]])\n",
    "# now we will do the scaling of the input\n",
    "user_input_scaled=scaler.transform(user_input)\n",
    "knn.predict(user_input_scaled)\n",
    "# this output means that this input data of a customer shows that the customer needs medium focus of the marketing strategies as the output is 1\n"
   ],
   "id": "5f4b84c1874951b6",
   "outputs": [
    {
     "data": {
      "text/plain": [
       "array([1])"
      ]
     },
     "execution_count": 23,
     "metadata": {},
     "output_type": "execute_result"
    }
   ],
   "execution_count": 23
  }
 ],
 "metadata": {
  "kernelspec": {
   "display_name": "Python 3",
   "language": "python",
   "name": "python3"
  },
  "language_info": {
   "codemirror_mode": {
    "name": "ipython",
    "version": 2
   },
   "file_extension": ".py",
   "mimetype": "text/x-python",
   "name": "python",
   "nbconvert_exporter": "python",
   "pygments_lexer": "ipython2",
   "version": "2.7.6"
  }
 },
 "nbformat": 4,
 "nbformat_minor": 5
}
